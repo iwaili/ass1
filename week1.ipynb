{
 "cells": [
  {
   "cell_type": "code",
   "execution_count": 2,
   "metadata": {},
   "outputs": [
    {
     "name": "stdout",
     "output_type": "stream",
     "text": [
      "[1, 2, 5, 10, 11, 24, 32, 53, 64]\n",
      "[1, 2, 5, 10, 11, 24, 32, 53, 64]\n"
     ]
    }
   ],
   "source": [
    "\n",
    "\n",
    "def bub_sort(A):\n",
    "    for i in range(len(A)):\n",
    "        for j in range(i,len(A)):\n",
    "            if(A[i]>A[j]):\n",
    "                A[i] ,A[j] =A[j],A[i]\n",
    "\n",
    "def selection_sort(A):\n",
    "    m1=1e9;\n",
    "    m2=0;\n",
    "\n",
    "    for i in range(len(A)):\n",
    "        for j in range(i,len(A)):\n",
    "            if(A[j]<m1):\n",
    "                m1=A[j];\n",
    "                m2=j;\n",
    "            \n",
    "        A[i],A[m2]=A[m2],A[i]\n",
    "        m1=1e9\n",
    "        m2=i;\n",
    "\n",
    "\n",
    "\n",
    "\n",
    "data=[2,5,1,53,64,32,10,11,24]\n",
    "\n",
    "bub_sort(data);\n",
    "print(data);\n",
    "selection_sort(data);\n",
    "print(data);\n"
   ]
  },
  {
   "cell_type": "code",
   "execution_count": null,
   "metadata": {},
   "outputs": [],
   "source": [
    "\n"
   ]
  },
  {
   "cell_type": "code",
   "execution_count": null,
   "metadata": {},
   "outputs": [],
   "source": []
  },
  {
   "cell_type": "code",
   "execution_count": null,
   "metadata": {},
   "outputs": [],
   "source": []
  }
 ],
 "metadata": {
  "kernelspec": {
   "display_name": "Python 3",
   "language": "python",
   "name": "python3"
  },
  "language_info": {
   "codemirror_mode": {
    "name": "ipython",
    "version": 3
   },
   "file_extension": ".py",
   "mimetype": "text/x-python",
   "name": "python",
   "nbconvert_exporter": "python",
   "pygments_lexer": "ipython3",
   "version": "3.7.3"
  }
 },
 "nbformat": 4,
 "nbformat_minor": 2
}
